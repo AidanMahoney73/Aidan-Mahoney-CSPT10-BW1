{
 "metadata": {
  "language_info": {
   "codemirror_mode": {
    "name": "ipython",
    "version": 3
   },
   "file_extension": ".py",
   "mimetype": "text/x-python",
   "name": "python",
   "nbconvert_exporter": "python",
   "pygments_lexer": "ipython3",
   "version": "3.7.6-final"
  },
  "orig_nbformat": 2,
  "kernelspec": {
   "name": "python_defaultSpec_1598000902087",
   "display_name": "Python 3.7.6 64-bit ('unit5env': conda)"
  }
 },
 "nbformat": 4,
 "nbformat_minor": 2,
 "cells": [
  {
   "cell_type": "code",
   "execution_count": 1,
   "metadata": {},
   "outputs": [],
   "source": [
    "# from os import system\n",
    "import pandas as pd\n",
    "import numpy as np\n",
    "from scipy import sparse"
   ]
  },
  {
   "cell_type": "code",
   "execution_count": 2,
   "metadata": {},
   "outputs": [],
   "source": [
    "# def clear():\n",
    "#     system('cls')"
   ]
  },
  {
   "cell_type": "markdown",
   "metadata": {},
   "source": [
    "# Read in the original data"
   ]
  },
  {
   "cell_type": "code",
   "execution_count": 3,
   "metadata": {
    "tags": []
   },
   "outputs": [
    {
     "output_type": "stream",
     "name": "stdout",
     "text": "evaluated 2.0M lines\nevaluated 4.0M lines\nevaluated 6.0M lines\nevaluated 8.0M lines\nevaluated 10.0M lines\nevaluated 12.0M lines\nevaluated 14.0M lines\nevaluated 16.0M lines\nevaluated 18.0M lines\nevaluated 20.0M lines\nevaluated 22.0M lines\nevaluated 24.0M lines\nevaluated 25000096 lines and kept 15630129 rating events\n"
    }
   ],
   "source": [
    "counter = 0\n",
    "with open('data/ratings.csv', 'r') as f:\n",
    "    df = []\n",
    "    for line in f:\n",
    "        counter += 1\n",
    "        if counter != 1:\n",
    "            items = line.split(',')\n",
    "            if float(items[2]) >= 3.5: #! Filtering here on ratings below 3.5\n",
    "                df.append(items[:-1])\n",
    "            if (counter % 2000000) == 0:\n",
    "                clear()\n",
    "                print(f\"evaluated {counter/1000000}M lines\")\n",
    "\n",
    "kept = len(df)\n",
    "\n",
    "clear()\n",
    "print(f\"evaluated {counter} lines and kept {kept} rating events\")"
   ]
  },
  {
   "cell_type": "code",
   "execution_count": 4,
   "metadata": {},
   "outputs": [],
   "source": [
    "df = pd.DataFrame(df, columns=[\"User_id\", \"Item_id\", \"Rating\"])\n",
    "df = df.apply(pd.to_numeric)"
   ]
  },
  {
   "cell_type": "markdown",
   "metadata": {},
   "source": [
    "# Filter Data"
   ]
  },
  {
   "cell_type": "code",
   "execution_count": 5,
   "metadata": {},
   "outputs": [],
   "source": [
    "# Remove all movies occuring in less than 1000 times in the dataframe\n",
    "item_count = df.groupby(\"Item_id\").size()\n",
    "item_filter = item_count[item_count >= 1000].index\n",
    "df = df[df[\"Item_id\"].isin(item_filter)]"
   ]
  },
  {
   "cell_type": "code",
   "execution_count": 6,
   "metadata": {
    "tags": []
   },
   "outputs": [
    {
     "output_type": "stream",
     "name": "stdout",
     "text": "After the filters we only have 13337921 Ratings\n"
    }
   ],
   "source": [
    "# Remove all users who rated less than 5 movies\n",
    "user_count = df.groupby(\"User_id\").size()\n",
    "user_filter = user_count[user_count >= 5].index\n",
    "df = df[df[\"User_id\"].isin(user_filter)]\n",
    "kept = len(df)\n",
    "print(f\"After the filters we only have {kept} Ratings\")"
   ]
  },
  {
   "cell_type": "markdown",
   "metadata": {},
   "source": [
    "# Create Pivot Table"
   ]
  },
  {
   "cell_type": "code",
   "execution_count": 7,
   "metadata": {},
   "outputs": [],
   "source": [
    "# Save the index so that I know the order and ID of what is fed into the NN\n",
    "item_index = df.groupby(\"Item_id\").size().index"
   ]
  },
  {
   "cell_type": "code",
   "execution_count": 8,
   "metadata": {
    "tags": []
   },
   "outputs": [
    {
     "output_type": "execute_result",
     "data": {
      "text/plain": "User_id    1    2    3    4    5\nItem_id                         \n1        0.0  3.5  4.0  0.0  4.0\n2        0.0  0.0  0.0  0.0  0.0\n3        0.0  0.0  0.0  0.0  0.0\n5        0.0  0.0  0.0  0.0  0.0\n6        0.0  0.0  0.0  0.0  0.0\n...      ...  ...  ...  ...  ...\n188301   0.0  0.0  0.0  0.0  0.0\n189333   0.0  0.0  0.0  4.0  0.0\n192803   0.0  0.0  0.0  0.0  0.0\n194448   0.0  0.0  0.0  0.0  0.0\n195159   0.0  0.0  0.0  5.0  0.0\n\n[2540 rows x 5 columns]",
      "text/html": "<div>\n<style scoped>\n    .dataframe tbody tr th:only-of-type {\n        vertical-align: middle;\n    }\n\n    .dataframe tbody tr th {\n        vertical-align: top;\n    }\n\n    .dataframe thead th {\n        text-align: right;\n    }\n</style>\n<table border=\"1\" class=\"dataframe\">\n  <thead>\n    <tr style=\"text-align: right;\">\n      <th>User_id</th>\n      <th>1</th>\n      <th>2</th>\n      <th>3</th>\n      <th>4</th>\n      <th>5</th>\n    </tr>\n    <tr>\n      <th>Item_id</th>\n      <th></th>\n      <th></th>\n      <th></th>\n      <th></th>\n      <th></th>\n    </tr>\n  </thead>\n  <tbody>\n    <tr>\n      <th>1</th>\n      <td>0.0</td>\n      <td>3.5</td>\n      <td>4.0</td>\n      <td>0.0</td>\n      <td>4.0</td>\n    </tr>\n    <tr>\n      <th>2</th>\n      <td>0.0</td>\n      <td>0.0</td>\n      <td>0.0</td>\n      <td>0.0</td>\n      <td>0.0</td>\n    </tr>\n    <tr>\n      <th>3</th>\n      <td>0.0</td>\n      <td>0.0</td>\n      <td>0.0</td>\n      <td>0.0</td>\n      <td>0.0</td>\n    </tr>\n    <tr>\n      <th>5</th>\n      <td>0.0</td>\n      <td>0.0</td>\n      <td>0.0</td>\n      <td>0.0</td>\n      <td>0.0</td>\n    </tr>\n    <tr>\n      <th>6</th>\n      <td>0.0</td>\n      <td>0.0</td>\n      <td>0.0</td>\n      <td>0.0</td>\n      <td>0.0</td>\n    </tr>\n    <tr>\n      <th>...</th>\n      <td>...</td>\n      <td>...</td>\n      <td>...</td>\n      <td>...</td>\n      <td>...</td>\n    </tr>\n    <tr>\n      <th>188301</th>\n      <td>0.0</td>\n      <td>0.0</td>\n      <td>0.0</td>\n      <td>0.0</td>\n      <td>0.0</td>\n    </tr>\n    <tr>\n      <th>189333</th>\n      <td>0.0</td>\n      <td>0.0</td>\n      <td>0.0</td>\n      <td>4.0</td>\n      <td>0.0</td>\n    </tr>\n    <tr>\n      <th>192803</th>\n      <td>0.0</td>\n      <td>0.0</td>\n      <td>0.0</td>\n      <td>0.0</td>\n      <td>0.0</td>\n    </tr>\n    <tr>\n      <th>194448</th>\n      <td>0.0</td>\n      <td>0.0</td>\n      <td>0.0</td>\n      <td>0.0</td>\n      <td>0.0</td>\n    </tr>\n    <tr>\n      <th>195159</th>\n      <td>0.0</td>\n      <td>0.0</td>\n      <td>0.0</td>\n      <td>5.0</td>\n      <td>0.0</td>\n    </tr>\n  </tbody>\n</table>\n<p>2540 rows × 5 columns</p>\n</div>"
     },
     "metadata": {},
     "execution_count": 8
    }
   ],
   "source": [
    "df = df.pivot(index=\"User_id\", columns=\"Item_id\", values=\"Rating\")\n",
    "df = df.fillna(0)\n",
    "df.head(5).T"
   ]
  },
  {
   "cell_type": "code",
   "execution_count": 9,
   "metadata": {},
   "outputs": [
    {
     "output_type": "execute_result",
     "data": {
      "text/plain": "(161288, 2540)"
     },
     "metadata": {},
     "execution_count": 9
    }
   ],
   "source": [
    "df.shape"
   ]
  },
  {
   "cell_type": "markdown",
   "metadata": {},
   "source": [
    "# Train Test Split and Save"
   ]
  },
  {
   "cell_type": "markdown",
   "metadata": {},
   "source": [
    "## Dictionaries"
   ]
  },
  {
   "cell_type": "code",
   "execution_count": 10,
   "metadata": {
    "tags": []
   },
   "outputs": [],
   "source": [
    "id_index = dict()\n",
    "index_id = dict()\n",
    "counter = 0\n",
    "for item_id in item_index:\n",
    "    id_index.update({item_id: counter})\n",
    "    index_id.update({counter: item_id})\n",
    "    counter += 1"
   ]
  },
  {
   "cell_type": "code",
   "execution_count": 11,
   "metadata": {},
   "outputs": [],
   "source": [
    "f = open(\"data/id_index.txt\",\"w\")\n",
    "f.write(str(id_index))\n",
    "f.close()\n",
    "\n",
    "f = open(\"data/index_id.txt\",\"w\")\n",
    "f.write(str(index_id))\n",
    "f.close()"
   ]
  },
  {
   "cell_type": "markdown",
   "metadata": {},
   "source": [
    "## ndarrays"
   ]
  },
  {
   "cell_type": "code",
   "execution_count": 12,
   "metadata": {
    "tags": []
   },
   "outputs": [
    {
     "output_type": "stream",
     "name": "stdout",
     "text": "145159\n"
    }
   ],
   "source": [
    "# find the 90% mark in the data\n",
    "tts = round(df.shape[0]*.9)\n",
    "print(tts)"
   ]
  },
  {
   "cell_type": "code",
   "execution_count": 13,
   "metadata": {},
   "outputs": [],
   "source": [
    "train = df.sample(frac=1, random_state=73)[:tts]\n",
    "test = df.sample(frac=1, random_state=73)[tts:]"
   ]
  },
  {
   "cell_type": "code",
   "execution_count": 14,
   "metadata": {},
   "outputs": [],
   "source": [
    "train = train.to_numpy()\n",
    "test = test.to_numpy()"
   ]
  },
  {
   "cell_type": "code",
   "execution_count": 15,
   "metadata": {
    "tags": []
   },
   "outputs": [
    {
     "output_type": "stream",
     "name": "stdout",
     "text": "(145159, 2540)\n[[3.5 3.5 0.  ... 0.  0.  0. ]\n [0.  0.  0.  ... 0.  0.  0. ]\n [0.  0.  0.  ... 0.  0.  0. ]\n ...\n [0.  0.  0.  ... 0.  0.  0. ]\n [0.  0.  0.  ... 0.  0.  0. ]\n [4.  0.  0.  ... 0.  0.  0. ]]\n"
    }
   ],
   "source": [
    "print(train.shape)\n",
    "print(train)"
   ]
  },
  {
   "cell_type": "code",
   "execution_count": 16,
   "metadata": {
    "tags": []
   },
   "outputs": [
    {
     "output_type": "stream",
     "name": "stdout",
     "text": "(16129, 2540)\n[[0. 0. 0. ... 0. 0. 0.]\n [0. 0. 0. ... 0. 0. 0.]\n [0. 0. 4. ... 0. 0. 0.]\n ...\n [0. 0. 0. ... 0. 0. 0.]\n [0. 0. 0. ... 0. 0. 0.]\n [0. 0. 0. ... 0. 0. 0.]]\n"
    }
   ],
   "source": [
    "print(test.shape)\n",
    "print(test)"
   ]
  },
  {
   "cell_type": "code",
   "execution_count": 17,
   "metadata": {},
   "outputs": [],
   "source": [
    "np.save(\"data/train.npy\", train)\n",
    "np.save(\"data/test.npy\", test)"
   ]
  },
  {
   "cell_type": "code",
   "execution_count": null,
   "metadata": {},
   "outputs": [],
   "source": []
  }
 ]
}